{
  "nbformat": 4,
  "nbformat_minor": 0,
  "metadata": {
    "colab": {
      "provenance": [],
      "authorship_tag": "ABX9TyMwl1Petz1QMSuV7U4U4l26",
      "include_colab_link": true
    },
    "kernelspec": {
      "name": "python3",
      "display_name": "Python 3"
    },
    "language_info": {
      "name": "python"
    }
  },
  "cells": [
    {
      "cell_type": "markdown",
      "metadata": {
        "id": "view-in-github",
        "colab_type": "text"
      },
      "source": [
        "<a href=\"https://colab.research.google.com/github/Thanusri-cd/Codsoft_task3/blob/main/passwordgenerator.ipynb\" target=\"_parent\"><img src=\"https://colab.research.google.com/assets/colab-badge.svg\" alt=\"Open In Colab\"/></a>"
      ]
    },
    {
      "cell_type": "code",
      "execution_count": 1,
      "metadata": {
        "colab": {
          "base_uri": "https://localhost:8080/"
        },
        "id": "iwGua7pwsoDq",
        "outputId": "c7cd2c61-d38d-4f9b-bb23-ae78e9a819e3"
      },
      "outputs": [
        {
          "output_type": "stream",
          "name": "stdout",
          "text": [
            "Enter desired password length: 18\n",
            "Generated Password: -Ce8WR6NaTWBn/i%z>\n"
          ]
        }
      ],
      "source": [
        "import random\n",
        "import string\n",
        "def generate_password(length=6):\n",
        "    if length < 4:\n",
        "        return \"Password length should be at least 4\"\n",
        "    letters = string.ascii_letters\n",
        "    digits = string.digits\n",
        "    symbols = string.punctuation\n",
        "    password = [\n",
        "        random.choice(letters),\n",
        "        random.choice(digits),\n",
        "        random.choice(symbols)\n",
        "    ]\n",
        "    all_chars = letters + digits + symbols\n",
        "    password += random.choices(all_chars, k=length - 3)\n",
        "    random.shuffle(password)\n",
        "    return ''.join(password)\n",
        "length = int(input(\"Enter desired password length: \"))\n",
        "print(\"Generated Password:\", generate_password(length))"
      ]
    }
  ]
}